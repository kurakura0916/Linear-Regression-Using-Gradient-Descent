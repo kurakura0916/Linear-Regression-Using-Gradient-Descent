{
 "cells": [
  {
   "cell_type": "code",
   "execution_count": 1,
   "metadata": {},
   "outputs": [],
   "source": [
    "%matplotlib inline\n",
    "from __future__ import print_function\n",
    "import numpy as np\n",
    "import matplotlib.pyplot as plt"
   ]
  },
  {
   "cell_type": "markdown",
   "metadata": {},
   "source": [
    "## 1.ダミーデータの用意"
   ]
  },
  {
   "cell_type": "code",
   "execution_count": 2,
   "metadata": {},
   "outputs": [],
   "source": [
    "np.random.seed(100)\n",
    "data_size = 100\n",
    "x = np.random.randn(data_size)\n",
    "y = 5*x+10+np.random.randn(data_size)"
   ]
  },
  {
   "cell_type": "code",
   "execution_count": 6,
   "metadata": {},
   "outputs": [
    {
     "data": {
      "text/plain": [
       "Text(0,0.5,'y')"
      ]
     },
     "execution_count": 6,
     "metadata": {},
     "output_type": "execute_result"
    },
    {
     "data": {
      "image/png": "[encoded data removed]",
      "text/plain": [
       "<matplotlib.figure.Figure at 0x1111d2160>"
      ]
     },
     "metadata": {},
     "output_type": "display_data"
    }
   ],
   "source": [
    "fig = plt.figure()\n",
    "ax = fig.add_subplot(1,1,1)\n",
    "ax.scatter(x,y)\n",
    "ax.set_xlabel(\"x\")\n",
    "ax.set_ylabel(\"y\")"
   ]
  },
  {
   "cell_type": "code",
   "execution_count": 17,
   "metadata": {},
   "outputs": [
    {
     "name": "stdout",
     "output_type": "stream",
     "text": [
      "残差の二乗和の合計:113.71604952676256\n"
     ]
    }
   ],
   "source": [
    "# 残差の二乗和の合計を算出\n",
    "error = y - (alpha+beta*x)\n",
    "squre_error = error**2\n",
    "sum_of_squre_error = np.sum(squre_error)\n",
    "print(\"残差の二乗和の合計:{}\".format(sum_of_squre_error))"
   ]
  },
  {
   "cell_type": "code",
   "execution_count": 18,
   "metadata": {},
   "outputs": [],
   "source": [
    "# 残差の二乗和の合計を算出する関数を作成\n",
    "def objective_function(alpha,beta):\n",
    "    error = y -(alpha+beta*x)\n",
    "    squre_error = error**2\n",
    "    sum_of_squre_error = np.sum(squre_error)\n",
    "    return sum_of_squre_error"
   ]
  },
  {
   "cell_type": "code",
   "execution_count": 21,
   "metadata": {},
   "outputs": [
    {
     "data": {
      "text/plain": [
       "8182.380619046215"
      ]
     },
     "execution_count": 21,
     "metadata": {},
     "output_type": "execute_result"
    }
   ],
   "source": [
    "objective_function(3,10)"
   ]
  },
  {
   "cell_type": "markdown",
   "metadata": {},
   "source": [
    "## 2.勾配降下法によるパラメーターの推定"
   ]
  },
  {
   "cell_type": "markdown",
   "metadata": {},
   "source": [
    "線形回帰モデルの目的関数は以下の通り。\n",
    "\\begin{equation*}\n",
    "f(\\alpha,\\beta) = \\sum_{k=1}^{N}(y_i - (\\alpha - \\beta x_i))^2\n",
    "\\end{equation*}\n",
    "\n",
    "この目的関数の最小となる$\\alpha$と$\\beta$を探し出す。\n",
    "つまり、目的関数を$\\alpha$と$\\beta$に関してそれぞれ偏微分を行い、傾きを算出をし$\\alpha$と$\\beta$の適当な初期値から更新をし目的関数が最小となる点を探し出す。\n",
    "\n",
    "\\begin{equation*}\n",
    "\\frac{\\partial f}{\\partial \\alpha} = \\sum_{k=1}^{N}-2(y_i - \\alpha - \\beta x_i)\n",
    "\\\\\n",
    "\\frac{\\partial f}{\\partial \\beta} = \\sum_{k=1}^{N}-2x_i(y_i - \\alpha - \\beta x_i)\n",
    "\\end{equation*}\n",
    "\n",
    "更新式は以下のようになる。\n",
    "\n",
    "\\begin{equation*}\n",
    "\\alpha_{next} = \\alpha_{current} - \\eta \\frac{\\partial f}{\\partial \\alpha}\n",
    "\\\\\n",
    "\\beta_{next} = \\beta_{current} - \\eta \\frac{\\partial f}{\\partial \\beta}\n",
    "\\end{equation*}"
   ]
  },
  {
   "cell_type": "code",
   "execution_count": 22,
   "metadata": {},
   "outputs": [],
   "source": [
    "# alphaとbetaの偏微分を関数化\n",
    "def alpha_deriv(alpha,beta):\n",
    "    return (-2.0*(y-alpha - beta*x)).sum()\n",
    "\n",
    "def beta_deriv(alpha,beta):\n",
    "    return (-2.0*x*(y-alpha - beta*x)).sum()"
   ]
  },
  {
   "cell_type": "code",
   "execution_count": 88,
   "metadata": {},
   "outputs": [],
   "source": [
    "def my_linear_reg_gd(init_alpha,init_beta,learning_rate,max_iteration,print_interval=10):\n",
    "    \n",
    "    y_score_history = []\n",
    "    \n",
    "    # 初期値での残差の二乗和合計を算出する\n",
    "    first_y_score = objective_function(init_alpha,init_beta)\n",
    "    y_score_history.append(first_y_score)\n",
    "    print(\"init_alpha= {} and init_beta = {}, first y score is {}\".format(init_alpha,init_beta,first_y_score))\n",
    "    \n",
    "    current_alpha = init_alpha\n",
    "    current_beta = init_beta\n",
    "    \n",
    "    for i in range(max_iteration):\n",
    "        next_alpha = current_alpha + (-1)*learning_rate*alpha_deriv(current_alpha,current_beta)\n",
    "        next_beta = current_beta + (-1)*learning_rate*beta_deriv(current_alpha,current_beta)\n",
    "        \n",
    "        if abs(current_alpha -  next_alpha) and (current_beta - next_beta) < 0.0001:\n",
    "            break\n",
    "        \n",
    "        current_alpha = next_alpha\n",
    "        current_beta = next_beta\n",
    "        # 更新された点での残差の二乗和合計を算出する\n",
    "        current_y  = objective_function(current_alpha,current_beta)\n",
    "        y_score_history.append(current_y)\n",
    "        print(\"current_alpha:{} | current_beta:{} | current_y:{}\".format(current_alpha,current_beta,current_y))\n",
    "    return y_score_history,current_alpha,current_beta"
   ]
  },
  {
   "cell_type": "code",
   "execution_count": 89,
   "metadata": {},
   "outputs": [
    {
     "name": "stdout",
     "output_type": "stream",
     "text": [
      "init_alpha= 10 and init_beta = 10, first y score is 2651.564271549126\n",
      "current_alpha:10.090116621071013 | current_beta:9.016795140974917 | current_y:1771.3679872510281\n",
      "current_alpha:10.141726643199027 | current_beta:8.222526438561083 | current_y:1198.9740886577151\n",
      "current_alpha:10.166467525387727 | current_beta:7.580445802447239 | current_y:825.7043858236327\n",
      "current_alpha:10.172883655599179 | current_beta:7.061039061821703 | current_y:581.6170952740096\n",
      "current_alpha:10.167195670442418 | current_beta:6.640585244153664 | current_y:421.5734344089719\n",
      "current_alpha:10.153885896133131 | current_beta:6.300005984441361 | current_y:316.3595180278828\n",
      "current_alpha:10.1361427308078 | current_beta:6.023946035643414 | current_y:247.01458609168765\n",
      "current_alpha:10.116196994491796 | current_beta:5.800037973650132 | current_y:201.1978527309984\n",
      "current_alpha:10.095575690546973 | current_beta:5.618313802374653 | current_y:170.85483843842158\n",
      "current_alpha:10.075292756698111 | current_beta:5.470733790035162 | current_y:150.71421332347666\n"
     ]
    }
   ],
   "source": [
    "cost_history,estimated_alpha,estimated_beta = my_linear_reg_gd(init_alpha=10,\n",
    "                                                              init_beta=10,\n",
    "                                                              learning_rate = 0.001,\n",
    "                                                              max_iteration=10)"
   ]
  },
  {
   "cell_type": "code",
   "execution_count": 91,
   "metadata": {},
   "outputs": [
    {
     "name": "stdout",
     "output_type": "stream",
     "text": [
      "Estimated alpha:10.075292756698111\n",
      "Estimated beta:5.470733790035162\n"
     ]
    },
    {
     "data": {
      "image/png": "[encoded data removed]",
      "text/plain": [
       "<matplotlib.figure.Figure at 0x113402cf8>"
      ]
     },
     "metadata": {},
     "output_type": "display_data"
    }
   ],
   "source": [
    "plt.plot(cost_history)\n",
    "print(\"Estimated alpha:{}\".format(estimated_alpha))\n",
    "print(\"Estimated beta:{}\".format(estimated_beta))"
   ]
  },
  {
   "cell_type": "markdown",
   "metadata": {},
   "source": [
    "## 勾配降下法によって求められたalphaとbetaを代入し線形回帰モデルを描画"
   ]
  },
  {
   "cell_type": "code",
   "execution_count": 95,
   "metadata": {},
   "outputs": [
    {
     "data": {
      "text/plain": [
       "[<matplotlib.lines.Line2D at 0x114439f60>]"
      ]
     },
     "execution_count": 95,
     "metadata": {},
     "output_type": "execute_result"
    },
    {
     "data": {
      "image/png": "[encoded data removed]",
      "text/plain": [
       "<matplotlib.figure.Figure at 0x113402ba8>"
      ]
     },
     "metadata": {},
     "output_type": "display_data"
    }
   ],
   "source": [
    "alpha = 10.07\n",
    "beta = 5.47\n",
    "fig = plt.figure()\n",
    "ax = fig.add_subplot(1,1,1)\n",
    "ax.scatter(x,y)\n",
    "ax.plot(x,beta*x+alpha,\"r-\")"
   ]
  },
  {
   "cell_type": "markdown",
   "metadata": {},
   "source": [
    "## 3.確率的勾配降下法によるパラメーターの推定"
   ]
  },
  {
   "cell_type": "markdown",
   "metadata": {},
   "source": [
    "データ数が多い場合、残差の二乗和を都度計算するのは、現実的ではないので勾配を以下のように定義をします。\n",
    "\\begin{equation*}\n",
    "\\frac{\\partial f}{\\partial \\alpha } \\sim -2(y_i - \\alpha -  \\beta x_i)\n",
    "\\\\\n",
    "\\frac{\\partial f}{\\partial \\beta }  \\sim -2x_i(y_i - \\alpha -  \\beta x_i)\n",
    "\\end{equation*}\n",
    "\n",
    "勾配を計算する際には1つのレコードからxとyを選びます。通常はデータをシャッフルし上から順々に選択する方法をとります。"
   ]
  },
  {
   "cell_type": "code",
   "execution_count": 46,
   "metadata": {},
   "outputs": [],
   "source": [
    "# 各データ点での合計は算出せず、xとyをindexで数値を取得する\n",
    "def alpha_deriv_sgd(alpha,beta,idx):\n",
    "    return (-2.0*(y[idx]-alpha-beta*x[idx]))\n",
    "\n",
    "def beta_deriv_sgd(alpha,beta,idx):\n",
    "    return (-2.0*x[idx]*(y[idx]-alpha-beta*x[idx]))"
   ]
  },
  {
   "cell_type": "code",
   "execution_count": 92,
   "metadata": {},
   "outputs": [],
   "source": [
    "def my_linear_reg_sgd(init_alpha,init_beta,learning_rate,max_epoch,print_interval=100):\n",
    "    \n",
    "    # yの値をトラックするためのリストを用意\n",
    "    cost_history = []\n",
    "    \n",
    "    # 初期値での残差二乗和\n",
    "    first_cost = objective_function(init_alpha,init_beta)\n",
    "    cost_history.append(first_cost)\n",
    "    print(\"init_alpha : {} | init_beta : {} | cost : {}\".format(init_alpha,init_beta,first_cost))\n",
    "    \n",
    "    current_alpha = init_alpha\n",
    "    current_beta = init_beta\n",
    "    \n",
    "    counter = 1\n",
    "    \n",
    "    # 確率的勾配降下法の場合、更新幅が小さくなるのでデータセット自体を繰り返し複数回舐める必要がある\n",
    "    for i in range(max_epoch):\n",
    "        \n",
    "        # 本来であればシャッフルする必要があるが、データを上から見ていく（x.shape[0]）\n",
    "        for j in range(x.shape[0]):\n",
    "            next_alpha = current_alpha + (-1)*alpha_deriv_sgd(current_alpha,current_beta,idx=j)*learning_rate\n",
    "            next_beta = current_beta + (-1)*beta_deriv_sgd(current_alpha,current_beta,idx=j)*learning_rate\n",
    "            \n",
    "            next_cost = objective_function(next_alpha,next_beta)\n",
    "            \n",
    "            if np.sqrt((current_alpha - next_alpha) **2 + (next_beta - current_beta)**2) < 0.0001:\n",
    "                break\n",
    "            \n",
    "            current_alpha = next_alpha\n",
    "            current_beta = next_beta\n",
    "            current_cost = next_cost\n",
    "            \n",
    "            cost_history.append(current_cost)\n",
    "            \n",
    "            counter += 1\n",
    "            \n",
    "            if counter % print_interval == 0:\n",
    "                print(\"alpha:{} | beta:{} | cost:{}\".format(current_alpha,current_beta,current_cost))\n",
    "\n",
    "    return cost_history,current_alpha,current_beta"
   ]
  },
  {
   "cell_type": "code",
   "execution_count": 93,
   "metadata": {},
   "outputs": [
    {
     "name": "stdout",
     "output_type": "stream",
     "text": [
      "init_alpha : 0.0 | init_beta : 0.0 | cost : 11150.069107539352\n",
      "alpha:8.560728619405149 | beta:3.8257200536227747 | cost:359.10919852330613\n",
      "alpha:9.694920074759617 | beta:4.640592000995715 | cost:117.26342934022921\n",
      "alpha:9.905462711947694 | beta:4.739250169897278 | cost:110.90888885267664\n",
      "alpha:9.875721919410754 | beta:4.818291454396355 | cost:110.38222469215961\n",
      "alpha:9.926208425686532 | beta:4.804541719997368 | cost:110.31575276328083\n",
      "alpha:9.932516249168327 | beta:4.8040541553939295 | cost:110.34284240373502\n",
      "alpha:9.88979821717773 | beta:4.842556335053224 | cost:110.35095864666063\n",
      "alpha:9.788243326805587 | beta:4.829461054631125 | cost:111.79334271778859\n"
     ]
    }
   ],
   "source": [
    "cost_history , estimated_alpha,estimated_beta = my_linear_reg_sgd(init_alpha = 0.0,\n",
    "                                                                  init_beta = 0.0,\n",
    "                                                                  learning_rate = 0.01,\n",
    "                                                                  max_epoch=10,\n",
    "                                                                  print_interval = 100)"
   ]
  },
  {
   "cell_type": "code",
   "execution_count": 94,
   "metadata": {},
   "outputs": [
    {
     "name": "stdout",
     "output_type": "stream",
     "text": [
      "Estimated alpha:10.044097026402667\n",
      "Estimated beta:4.764007617871767\n"
     ]
    },
    {
     "data": {
      "image/png": "[encoded data removed]",
      "text/plain": [
       "<matplotlib.figure.Figure at 0x11389d390>"
      ]
     },
     "metadata": {},
     "output_type": "display_data"
    }
   ],
   "source": [
    "plt.plot(cost_history)\n",
    "print(\"Estimated alpha:{}\".format(estimated_alpha))\n",
    "print(\"Estimated beta:{}\".format(estimated_beta))"
   ]
  },
  {
   "cell_type": "markdown",
   "metadata": {},
   "source": [
    "## 確率的勾配降下法によって求められたalphaとbetaを代入し線形回帰モデルを描画"
   ]
  },
  {
   "cell_type": "code",
   "execution_count": 96,
   "metadata": {},
   "outputs": [
    {
     "data": {
      "text/plain": [
       "[<matplotlib.lines.Line2D at 0x1144ba470>]"
      ]
     },
     "execution_count": 96,
     "metadata": {},
     "output_type": "execute_result"
    },
    {
     "data": {
      "image/png": "[encoded data removed]",
      "text/plain": [
       "<matplotlib.figure.Figure at 0x114411470>"
      ]
     },
     "metadata": {},
     "output_type": "display_data"
    }
   ],
   "source": [
    "alpha = 10.04\n",
    "beta = 4.76\n",
    "fig = plt.figure()\n",
    "ax = fig.add_subplot(1,1,1)\n",
    "ax.scatter(x,y)\n",
    "ax.plot(x,beta*x+alpha,\"r-\")"
   ]
  },
  {
   "cell_type": "code",
   "execution_count": null,
   "metadata": {},
   "outputs": [],
   "source": []
  }
 ],
 "metadata": {
  "kernelspec": {
   "display_name": "Python 3",
   "language": "python",
   "name": "python3"
  },
  "language_info": {
   "codemirror_mode": {
    "name": "ipython",
    "version": 3
   },
   "file_extension": ".py",
   "mimetype": "text/x-python",
   "name": "python",
   "nbconvert_exporter": "python",
   "pygments_lexer": "ipython3",
   "version": "3.6.4"
  }
 },
 "nbformat": 4,
 "nbformat_minor": 2
}
